{
 "cells": [
  {
   "cell_type": "code",
   "execution_count": 1,
   "id": "afab3d0e-09ad-41b3-99f3-b0f39e7debe9",
   "metadata": {
    "colab": {
     "base_uri": "https://localhost:8080/",
     "height": 366
    },
    "executionInfo": {
     "elapsed": 447,
     "status": "error",
     "timestamp": 1728852306128,
     "user": {
      "displayName": "Ayan Hussain",
      "userId": "02105672345203713241"
     },
     "user_tz": -300
    },
    "id": "afab3d0e-09ad-41b3-99f3-b0f39e7debe9",
    "outputId": "537a6427-2483-4d27-93bb-bed65e677001"
   },
   "outputs": [],
   "source": [
    "import boto3\n",
    "import pandas as pd\n",
    "from io import StringIO  # python3; python2: BytesIO\n",
    "import time"
   ]
  },
  {
   "cell_type": "code",
   "execution_count": 2,
   "id": "a478f4a1-a40c-42ac-bfa9-36efcbd4500e",
   "metadata": {
    "id": "a478f4a1-a40c-42ac-bfa9-36efcbd4500e"
   },
   "outputs": [],
   "source": [
    "AWS_ACCESS_KEY = \"----\"\n",
    "AWS_SECRET_KEY = \"----\"\n",
    "AWS_REGION = \"us-east-1\"\n",
    "SCHEMA_NAME = \"datawarehouse\"\n",
    "S3_STAGING_DIR = \"s3://test-etl-datawarehouse/output/\"\n",
    "S3_BUCKET_NAME = \"test-etl-datawarehouse\"\n",
    "S3_OUTPUT_DIRECTORY = \"output\""
   ]
  },
  {
   "cell_type": "code",
   "execution_count": 3,
   "id": "856d4d26-97ff-4d6a-82a4-06297cb6f70f",
   "metadata": {
    "id": "856d4d26-97ff-4d6a-82a4-06297cb6f70f"
   },
   "outputs": [],
   "source": [
    "athena_client = boto3.client(\n",
    "    \"athena\",\n",
    "    aws_access_key_id=AWS_ACCESS_KEY,\n",
    "    aws_secret_access_key=AWS_SECRET_KEY,\n",
    "    region_name=AWS_REGION,\n",
    ")\n"
   ]
  },
  {
   "cell_type": "code",
   "execution_count": null,
   "id": "127aa423-6787-471d-8110-4ab4b87fff2f",
   "metadata": {
    "id": "127aa423-6787-471d-8110-4ab4b87fff2f",
    "outputId": "888888d9-6828-4d00-c7dc-68702a2c6eca"
   },
   "outputs": [
    {
     "data": {
      "text/plain": [
       "<botocore.client.Athena at 0x1626c8cd090>"
      ]
     },
     "execution_count": 4,
     "metadata": {},
     "output_type": "execute_result"
    }
   ],
   "source": [
    "athena_client"
   ]
  },
  {
   "cell_type": "code",
   "execution_count": null,
   "id": "02de8c43-4c9c-466a-bd24-2cfcf1ccda26",
   "metadata": {
    "id": "02de8c43-4c9c-466a-bd24-2cfcf1ccda26"
   },
   "outputs": [],
   "source": [
    "Dict = {}\n",
    "\n",
    "def download_and_load_query_results(\n",
    "    client: boto3.client, query_response: Dict\n",
    ") -> pd.DataFrame:\n",
    "    while True:\n",
    "        try:\n",
    "            client.get_query_results(\n",
    "                QueryExecutionId=query_response[\"QueryExecutionId\"]\n",
    "            )\n",
    "            break\n",
    "        except Exception as err:\n",
    "            if \"not yet finished\" in str(err):\n",
    "                time.sleep(0.001)\n",
    "            else:\n",
    "                raise err\n",
    "    temp_file_location: str = \"athena_query_results.csv\"\n",
    "    s3_client = boto3.client(\n",
    "        \"s3\",\n",
    "        aws_access_key_id=AWS_ACCESS_KEY,\n",
    "        aws_secret_access_key=AWS_SECRET_KEY,\n",
    "        region_name=AWS_REGION,\n",
    "    )\n",
    "    s3_client.download_file(\n",
    "        S3_BUCKET_NAME,\n",
    "        f\"{S3_OUTPUT_DIRECTORY}/{query_response['QueryExecutionId']}.csv\",\n",
    "        temp_file_location,\n",
    "    )\n",
    "    return pd.read_csv(temp_file_location)\n"
   ]
  },
  {
   "cell_type": "code",
   "execution_count": null,
   "id": "a78ae111-136b-4cf6-9ae3-d2d171849591",
   "metadata": {
    "id": "a78ae111-136b-4cf6-9ae3-d2d171849591",
    "outputId": "934cc3b1-d72c-410d-a876-0f9c217f6de9"
   },
   "outputs": [
    {
     "data": {
      "text/html": [
       "<div>\n",
       "<style scoped>\n",
       "    .dataframe tbody tr th:only-of-type {\n",
       "        vertical-align: middle;\n",
       "    }\n",
       "\n",
       "    .dataframe tbody tr th {\n",
       "        vertical-align: top;\n",
       "    }\n",
       "\n",
       "    .dataframe thead th {\n",
       "        text-align: right;\n",
       "    }\n",
       "</style>\n",
       "<table border=\"1\" class=\"dataframe\">\n",
       "  <thead>\n",
       "    <tr style=\"text-align: right;\">\n",
       "      <th></th>\n",
       "      <th>fips</th>\n",
       "      <th>admin2</th>\n",
       "      <th>province_state</th>\n",
       "      <th>country_region</th>\n",
       "      <th>last_update</th>\n",
       "      <th>latitude</th>\n",
       "      <th>longitude</th>\n",
       "      <th>confirmed</th>\n",
       "      <th>deaths</th>\n",
       "      <th>recovered</th>\n",
       "      <th>active</th>\n",
       "      <th>combined_key</th>\n",
       "    </tr>\n",
       "  </thead>\n",
       "  <tbody>\n",
       "    <tr>\n",
       "      <th>0</th>\n",
       "      <td>NaN</td>\n",
       "      <td>NaN</td>\n",
       "      <td>Anhui</td>\n",
       "      <td>China</td>\n",
       "      <td>2020-01-22T17:00:00</td>\n",
       "      <td>31.826</td>\n",
       "      <td>117.226</td>\n",
       "      <td>1.0</td>\n",
       "      <td>NaN</td>\n",
       "      <td>NaN</td>\n",
       "      <td>NaN</td>\n",
       "      <td>\"Anhui</td>\n",
       "    </tr>\n",
       "    <tr>\n",
       "      <th>1</th>\n",
       "      <td>NaN</td>\n",
       "      <td>NaN</td>\n",
       "      <td>Beijing</td>\n",
       "      <td>China</td>\n",
       "      <td>2020-01-22T17:00:00</td>\n",
       "      <td>40.182</td>\n",
       "      <td>116.414</td>\n",
       "      <td>14.0</td>\n",
       "      <td>NaN</td>\n",
       "      <td>NaN</td>\n",
       "      <td>NaN</td>\n",
       "      <td>\"Beijing</td>\n",
       "    </tr>\n",
       "    <tr>\n",
       "      <th>2</th>\n",
       "      <td>NaN</td>\n",
       "      <td>NaN</td>\n",
       "      <td>Chongqing</td>\n",
       "      <td>China</td>\n",
       "      <td>2020-01-22T17:00:00</td>\n",
       "      <td>30.057</td>\n",
       "      <td>107.874</td>\n",
       "      <td>6.0</td>\n",
       "      <td>NaN</td>\n",
       "      <td>NaN</td>\n",
       "      <td>NaN</td>\n",
       "      <td>\"Chongqing</td>\n",
       "    </tr>\n",
       "    <tr>\n",
       "      <th>3</th>\n",
       "      <td>NaN</td>\n",
       "      <td>NaN</td>\n",
       "      <td>Fujian</td>\n",
       "      <td>China</td>\n",
       "      <td>2020-01-22T17:00:00</td>\n",
       "      <td>26.079</td>\n",
       "      <td>117.987</td>\n",
       "      <td>1.0</td>\n",
       "      <td>NaN</td>\n",
       "      <td>NaN</td>\n",
       "      <td>NaN</td>\n",
       "      <td>\"Fujian</td>\n",
       "    </tr>\n",
       "    <tr>\n",
       "      <th>4</th>\n",
       "      <td>NaN</td>\n",
       "      <td>NaN</td>\n",
       "      <td>Gansu</td>\n",
       "      <td>China</td>\n",
       "      <td>2020-01-22T17:00:00</td>\n",
       "      <td>36.061</td>\n",
       "      <td>103.834</td>\n",
       "      <td>NaN</td>\n",
       "      <td>NaN</td>\n",
       "      <td>NaN</td>\n",
       "      <td>NaN</td>\n",
       "      <td>\"Gansu</td>\n",
       "    </tr>\n",
       "  </tbody>\n",
       "</table>\n",
       "</div>"
      ],
      "text/plain": [
       "   fips admin2 province_state country_region          last_update  latitude  \\\n",
       "0   NaN    NaN          Anhui          China  2020-01-22T17:00:00    31.826   \n",
       "1   NaN    NaN        Beijing          China  2020-01-22T17:00:00    40.182   \n",
       "2   NaN    NaN      Chongqing          China  2020-01-22T17:00:00    30.057   \n",
       "3   NaN    NaN         Fujian          China  2020-01-22T17:00:00    26.079   \n",
       "4   NaN    NaN          Gansu          China  2020-01-22T17:00:00    36.061   \n",
       "\n",
       "   longitude  confirmed  deaths  recovered  active combined_key  \n",
       "0    117.226        1.0     NaN        NaN     NaN       \"Anhui  \n",
       "1    116.414       14.0     NaN        NaN     NaN     \"Beijing  \n",
       "2    107.874        6.0     NaN        NaN     NaN   \"Chongqing  \n",
       "3    117.987        1.0     NaN        NaN     NaN      \"Fujian  \n",
       "4    103.834        NaN     NaN        NaN     NaN       \"Gansu  "
      ]
     },
     "execution_count": 5,
     "metadata": {},
     "output_type": "execute_result"
    }
   ],
   "source": [
    "response = athena_client.start_query_execution(\n",
    "QueryString=\"SELECT * FROM enigma_jhud\",\n",
    "QueryExecutionContext={\"Database\": SCHEMA_NAME},\n",
    "ResultConfiguration={ \"OutputLocation\": S3_STAGING_DIR,\n",
    "\"EncryptionConfiguration\": {\"EncryptionOption\": \"SSE_S3\"}, },\n",
    ")\n",
    "\n",
    "enigma_jhud = download_and_load_query_results(athena_client, response)\n",
    "\n",
    "enigma_jhud.head()\n",
    "# 11"
   ]
  },
  {
   "cell_type": "code",
   "execution_count": null,
   "id": "1c410581-c8f3-47ba-89a7-3babc231cfdf",
   "metadata": {
    "id": "1c410581-c8f3-47ba-89a7-3babc231cfdf",
    "outputId": "fce1a845-888d-4040-f89d-54b7f8ebd998"
   },
   "outputs": [
    {
     "data": {
      "text/plain": [
       "(10002, 12)"
      ]
     },
     "execution_count": 6,
     "metadata": {},
     "output_type": "execute_result"
    }
   ],
   "source": [
    "enigma_jhud.shape"
   ]
  },
  {
   "cell_type": "code",
   "execution_count": null,
   "id": "bb0bb0d9-b902-4cd7-83ea-07ced7d2e761",
   "metadata": {
    "id": "bb0bb0d9-b902-4cd7-83ea-07ced7d2e761"
   },
   "outputs": [],
   "source": [
    "# fips\t\tprovince_state\tcountry_region\tlast_update\tlatitude\tlongitude\tconfirmed\tdeaths\trecovered\tactive\tcombined_key\n",
    "factCovid_1= enigma_jhud[['fips', 'province_state', 'country_region', 'confirmed', 'deaths', 'recovered', 'active']]\n",
    "factCovid_2= states_daily[['fips', 'date', 'positive', 'negative', 'hospitalizedcurrently','hospitalized','hospitalizeddischarged']]\n",
    "factCovid = pd.merge(factCovid_1, factCovid_2, on='fips', how='inner')\n",
    "\n"
   ]
  },
  {
   "cell_type": "code",
   "execution_count": null,
   "id": "fb64cd4d-3f28-4bce-b510-105b5a84383f",
   "metadata": {
    "id": "fb64cd4d-3f28-4bce-b510-105b5a84383f",
    "outputId": "38bceda7-33f2-435f-bea6-780dc1c5439a"
   },
   "outputs": [
    {
     "data": {
      "text/html": [
       "<div>\n",
       "<style scoped>\n",
       "    .dataframe tbody tr th:only-of-type {\n",
       "        vertical-align: middle;\n",
       "    }\n",
       "\n",
       "    .dataframe tbody tr th {\n",
       "        vertical-align: top;\n",
       "    }\n",
       "\n",
       "    .dataframe thead th {\n",
       "        text-align: right;\n",
       "    }\n",
       "</style>\n",
       "<table border=\"1\" class=\"dataframe\">\n",
       "  <thead>\n",
       "    <tr style=\"text-align: right;\">\n",
       "      <th></th>\n",
       "      <th>fips</th>\n",
       "      <th>province_state</th>\n",
       "      <th>country_region</th>\n",
       "      <th>confirmed</th>\n",
       "      <th>deaths</th>\n",
       "      <th>recovered</th>\n",
       "      <th>active</th>\n",
       "      <th>date</th>\n",
       "      <th>positive</th>\n",
       "      <th>negative</th>\n",
       "      <th>hospitalizedcurrently</th>\n",
       "      <th>hospitalized</th>\n",
       "      <th>hospitalizeddischarged</th>\n",
       "    </tr>\n",
       "  </thead>\n",
       "  <tbody>\n",
       "    <tr>\n",
       "      <th>0</th>\n",
       "      <td>72.0</td>\n",
       "      <td>Puerto Rico</td>\n",
       "      <td>US</td>\n",
       "      <td>3.0</td>\n",
       "      <td>0.0</td>\n",
       "      <td>0.0</td>\n",
       "      <td>NaN</td>\n",
       "      <td>20210307</td>\n",
       "      <td>101327</td>\n",
       "      <td>305972.0</td>\n",
       "      <td>147.0</td>\n",
       "      <td>NaN</td>\n",
       "      <td>NaN</td>\n",
       "    </tr>\n",
       "    <tr>\n",
       "      <th>1</th>\n",
       "      <td>72.0</td>\n",
       "      <td>Puerto Rico</td>\n",
       "      <td>US</td>\n",
       "      <td>3.0</td>\n",
       "      <td>0.0</td>\n",
       "      <td>0.0</td>\n",
       "      <td>NaN</td>\n",
       "      <td>20210306</td>\n",
       "      <td>101327</td>\n",
       "      <td>305972.0</td>\n",
       "      <td>147.0</td>\n",
       "      <td>NaN</td>\n",
       "      <td>NaN</td>\n",
       "    </tr>\n",
       "    <tr>\n",
       "      <th>2</th>\n",
       "      <td>72.0</td>\n",
       "      <td>Puerto Rico</td>\n",
       "      <td>US</td>\n",
       "      <td>3.0</td>\n",
       "      <td>0.0</td>\n",
       "      <td>0.0</td>\n",
       "      <td>NaN</td>\n",
       "      <td>20210305</td>\n",
       "      <td>101066</td>\n",
       "      <td>305972.0</td>\n",
       "      <td>136.0</td>\n",
       "      <td>NaN</td>\n",
       "      <td>NaN</td>\n",
       "    </tr>\n",
       "    <tr>\n",
       "      <th>3</th>\n",
       "      <td>72.0</td>\n",
       "      <td>Puerto Rico</td>\n",
       "      <td>US</td>\n",
       "      <td>3.0</td>\n",
       "      <td>0.0</td>\n",
       "      <td>0.0</td>\n",
       "      <td>NaN</td>\n",
       "      <td>20210304</td>\n",
       "      <td>100867</td>\n",
       "      <td>305972.0</td>\n",
       "      <td>171.0</td>\n",
       "      <td>NaN</td>\n",
       "      <td>NaN</td>\n",
       "    </tr>\n",
       "    <tr>\n",
       "      <th>4</th>\n",
       "      <td>72.0</td>\n",
       "      <td>Puerto Rico</td>\n",
       "      <td>US</td>\n",
       "      <td>3.0</td>\n",
       "      <td>0.0</td>\n",
       "      <td>0.0</td>\n",
       "      <td>NaN</td>\n",
       "      <td>20210303</td>\n",
       "      <td>100765</td>\n",
       "      <td>305972.0</td>\n",
       "      <td>169.0</td>\n",
       "      <td>NaN</td>\n",
       "      <td>NaN</td>\n",
       "    </tr>\n",
       "  </tbody>\n",
       "</table>\n",
       "</div>"
      ],
      "text/plain": [
       "   fips province_state country_region  confirmed  deaths  recovered  active  \\\n",
       "0  72.0    Puerto Rico             US        3.0     0.0        0.0     NaN   \n",
       "1  72.0    Puerto Rico             US        3.0     0.0        0.0     NaN   \n",
       "2  72.0    Puerto Rico             US        3.0     0.0        0.0     NaN   \n",
       "3  72.0    Puerto Rico             US        3.0     0.0        0.0     NaN   \n",
       "4  72.0    Puerto Rico             US        3.0     0.0        0.0     NaN   \n",
       "\n",
       "       date  positive  negative  hospitalizedcurrently  hospitalized  \\\n",
       "0  20210307    101327  305972.0                  147.0           NaN   \n",
       "1  20210306    101327  305972.0                  147.0           NaN   \n",
       "2  20210305    101066  305972.0                  136.0           NaN   \n",
       "3  20210304    100867  305972.0                  171.0           NaN   \n",
       "4  20210303    100765  305972.0                  169.0           NaN   \n",
       "\n",
       "   hospitalizeddischarged  \n",
       "0                     NaN  \n",
       "1                     NaN  \n",
       "2                     NaN  \n",
       "3                     NaN  \n",
       "4                     NaN  "
      ]
     },
     "execution_count": 28,
     "metadata": {},
     "output_type": "execute_result"
    }
   ],
   "source": [
    "factCovid.head()"
   ]
  },
  {
   "cell_type": "code",
   "execution_count": null,
   "id": "a7251e6a-0f63-4008-bb5e-1489bb8d5447",
   "metadata": {
    "id": "a7251e6a-0f63-4008-bb5e-1489bb8d5447"
   },
   "outputs": [],
   "source": [
    "dimRegion_1 = enigma_jhud [['fips', 'province_state', 'country_region', 'latitude', 'longitude']]\n",
    "dimRegion_2 = nytimes_data_in_usa_us_county [['fips', 'county', 'state']]\n",
    "dimRegion = pd.merge(dimRegion_1, dimRegion_2, on='fips', how='inner')\n",
    "\n",
    "\n"
   ]
  },
  {
   "cell_type": "code",
   "execution_count": null,
   "id": "5479acc8-45a3-47cb-bcb2-7f330d0a39fe",
   "metadata": {
    "id": "5479acc8-45a3-47cb-bcb2-7f330d0a39fe"
   },
   "outputs": [],
   "source": [
    "dimHospital = rearc_usa_hospital_beds[['fips', 'state_name', 'latitude', 'longtitude', 'hq_address', 'hospital_name', 'hospital_type', 'hq_city', 'hq_state']]\n"
   ]
  },
  {
   "cell_type": "code",
   "execution_count": null,
   "id": "67a4e2fc-6118-4932-961d-eaa46a36c554",
   "metadata": {
    "id": "67a4e2fc-6118-4932-961d-eaa46a36c554",
    "outputId": "afa18034-8aa1-4f59-ec73-125a1b78c7f4"
   },
   "outputs": [
    {
     "data": {
      "text/html": [
       "<div>\n",
       "<style scoped>\n",
       "    .dataframe tbody tr th:only-of-type {\n",
       "        vertical-align: middle;\n",
       "    }\n",
       "\n",
       "    .dataframe tbody tr th {\n",
       "        vertical-align: top;\n",
       "    }\n",
       "\n",
       "    .dataframe thead th {\n",
       "        text-align: right;\n",
       "    }\n",
       "</style>\n",
       "<table border=\"1\" class=\"dataframe\">\n",
       "  <thead>\n",
       "    <tr style=\"text-align: right;\">\n",
       "      <th></th>\n",
       "      <th>fips</th>\n",
       "      <th>date</th>\n",
       "    </tr>\n",
       "  </thead>\n",
       "  <tbody>\n",
       "    <tr>\n",
       "      <th>0</th>\n",
       "      <td>2</td>\n",
       "      <td>20210307</td>\n",
       "    </tr>\n",
       "    <tr>\n",
       "      <th>1</th>\n",
       "      <td>1</td>\n",
       "      <td>20210307</td>\n",
       "    </tr>\n",
       "    <tr>\n",
       "      <th>2</th>\n",
       "      <td>5</td>\n",
       "      <td>20210307</td>\n",
       "    </tr>\n",
       "    <tr>\n",
       "      <th>3</th>\n",
       "      <td>60</td>\n",
       "      <td>20210307</td>\n",
       "    </tr>\n",
       "    <tr>\n",
       "      <th>4</th>\n",
       "      <td>4</td>\n",
       "      <td>20210307</td>\n",
       "    </tr>\n",
       "  </tbody>\n",
       "</table>\n",
       "</div>"
      ],
      "text/plain": [
       "   fips      date\n",
       "0     2  20210307\n",
       "1     1  20210307\n",
       "2     5  20210307\n",
       "3    60  20210307\n",
       "4     4  20210307"
      ]
     },
     "execution_count": 15,
     "metadata": {},
     "output_type": "execute_result"
    }
   ],
   "source": [
    "dimDate = states_daily[['fips', 'date']]\n",
    "dimDate.head()\n"
   ]
  },
  {
   "cell_type": "code",
   "execution_count": null,
   "id": "b24f5297-5fad-445a-aabe-1383e9c5e04e",
   "metadata": {
    "id": "b24f5297-5fad-445a-aabe-1383e9c5e04e",
    "outputId": "7eb83e8a-ac9a-4855-9cd9-3e2ee74713f2"
   },
   "outputs": [],
   "source": [
    "dimDate['date'] = pd.to_datetime(dimDate['date'], format='%Y%m%d')\n"
   ]
  },
  {
   "cell_type": "code",
   "execution_count": null,
   "id": "d3824a5a-c72f-4ff3-a835-de4e1bb1fb60",
   "metadata": {
    "id": "d3824a5a-c72f-4ff3-a835-de4e1bb1fb60"
   },
   "outputs": [],
   "source": [
    "dimDate.loc[:, 'date'] = pd.to_datetime(dimDate['date'], format='%Y%m%d')\n"
   ]
  },
  {
   "cell_type": "code",
   "execution_count": null,
   "id": "ac8addbc-46c3-46dd-ab85-a2180da50f6a",
   "metadata": {
    "id": "ac8addbc-46c3-46dd-ab85-a2180da50f6a",
    "outputId": "eefd01e7-badd-4f53-cdb8-bf540d16cb2f"
   },
   "outputs": [],
   "source": [
    "dimDate['month'] = dimDate['date'].dt.month\n",
    "dimDate['year'] = dimDate['date'].dt.year\n",
    "dimDate['day_of_week'] = dimDate['date'].dt.dayofweek\n"
   ]
  },
  {
   "cell_type": "code",
   "execution_count": null,
   "id": "4e61d073-afcb-41f1-b178-3eae53f52725",
   "metadata": {
    "id": "4e61d073-afcb-41f1-b178-3eae53f52725",
    "outputId": "149b57ea-3b97-41ba-a5fd-8a4c075dd288"
   },
   "outputs": [],
   "source": [
    "# Convert to datetime format\n",
    "dimDate['date'] = pd.to_datetime(dimDate['date'], format='%m/%d/%Y')\n",
    "\n",
    "# Format as YYYY-MM-DD\n",
    "dimDate['date'] =dimDate['date'].dt.strftime('%Y-%m-%d')\n",
    "dimDate.head()"
   ]
  },
  {
   "cell_type": "code",
   "execution_count": null,
   "id": "f20466dd-2d51-45d2-a2d0-e137414ec408",
   "metadata": {
    "id": "f20466dd-2d51-45d2-a2d0-e137414ec408",
    "outputId": "b12131a7-7503-4916-e793-40eafbe1d22f"
   },
   "outputs": [],
   "source": [
    "dimDate.head()"
   ]
  },
  {
   "cell_type": "code",
   "execution_count": null,
   "id": "0eed7976-bfc3-4403-baff-23263e345b92",
   "metadata": {
    "id": "0eed7976-bfc3-4403-baff-23263e345b92",
    "outputId": "3b6779c1-68fb-4f17-f3e1-478a1906cc69"
   },
   "outputs": [],
   "source": [
    "output_bucket = '' # already created on S3\n",
    "\n",
    "csv_buffer = StringIO()\n",
    "csv_buffer"
   ]
  },
  {
   "cell_type": "code",
   "execution_count": null,
   "id": "88e7c547-bbb5-4423-a0c3-da236c145a88",
   "metadata": {
    "id": "88e7c547-bbb5-4423-a0c3-da236c145a88",
    "outputId": "2726b68e-77d9-4242-a340-eb8ac93f8f6c"
   },
   "outputs": [],
   "source": [
    "csv_buffer = StringIO()\n",
    "dimDate.to_csv(csv_buffer,index=False)\n",
    "\n",
    "s3_resource =boto3.resource('s3')\n",
    "s3_resource.Object(output_bucket, 'dimDate.csv').put(Body=csv_buffer.getvalue())\n"
   ]
  },
  {
   "cell_type": "code",
   "execution_count": null,
   "id": "79bf1378-45e5-45b5-9677-c7232d5797c3",
   "metadata": {
    "id": "79bf1378-45e5-45b5-9677-c7232d5797c3",
    "outputId": "9e5d8c1a-044a-4b9b-be3f-d95f6749339d"
   },
   "outputs": [],
   "source": [
    "csv_buffer = StringIO()\n",
    "dimRegion.to_csv(csv_buffer,index=False)\n",
    "\n",
    "s3_resource =boto3.resource('s3')\n",
    "s3_resource.Object(output_bucket, 'dimRegion.csv').put(Body=csv_buffer.getvalue())\n"
   ]
  },
  {
   "cell_type": "code",
   "execution_count": null,
   "id": "18973827-3b9d-4fec-87cc-5e3cc08c8625",
   "metadata": {
    "id": "18973827-3b9d-4fec-87cc-5e3cc08c8625",
    "outputId": "84ff1f61-cd14-449a-f49d-0560ca3f730a"
   },
   "outputs": [],
   "source": [
    "csv_buffer = StringIO()\n",
    "dimHospital.to_csv(csv_buffer,index=False)\n",
    "\n",
    "s3_resource =boto3.resource('s3')\n",
    "s3_resource.Object(output_bucket, 'dimHospital.csv').put(Body=csv_buffer.getvalue())\n"
   ]
  },
  {
   "cell_type": "code",
   "execution_count": null,
   "id": "d956e57d-72d5-49f2-b13f-681331fd9717",
   "metadata": {
    "id": "d956e57d-72d5-49f2-b13f-681331fd9717",
    "outputId": "1d26784e-a3ce-4eb6-9c9a-d81061548312"
   },
   "outputs": [],
   "source": [
    "csv_buffer = StringIO()\n",
    "factCovid.to_csv(csv_buffer,index=False)\n",
    "\n",
    "s3_resource =boto3.resource('s3')\n",
    "s3_resource.Object(output_bucket, 'factCovid.csv').put(Body=csv_buffer.getvalue())"
   ]
  },
  {
   "cell_type": "code",
   "execution_count": null,
   "id": "0af2c5d1-13a6-4d1f-a0b3-4f7bd43f59cb",
   "metadata": {
    "id": "0af2c5d1-13a6-4d1f-a0b3-4f7bd43f59cb"
   },
   "outputs": [],
   "source": [
    "import pandas as pd\n",
    "\n",
    "# Assuming dimDate, factCovid, dimRegion, and dimHospital are predefined DataFrames\n",
    "\n",
    "dimDatesql = pd.io.sql.get_schema(dimDate.reset_index(), 'dimDate')\n",
    "print(''.join(dimDatesql))\n",
    "\n",
    "factCovidsql = pd.io.sql.get_schema(factCovid.reset_index(), 'factCovid')\n",
    "print(''.join(factCovidsql))\n",
    "\n",
    "dimRegionsql = pd.io.sql.get_schema(dimRegion.reset_index(), 'dimRegion')\n",
    "print(''.join(dimRegionsql))\n",
    "\n",
    "dimHospitalsql = pd.io.sql.get_schema(dimHospital.reset_index(), 'dimHospital')\n",
    "print(''.join(dimHospitalsql))\n"
   ]
  },
  {
   "cell_type": "code",
   "execution_count": null,
   "id": "93f4b3c8-4331-420e-9bf9-6bd4a8ffa8c7",
   "metadata": {
    "id": "93f4b3c8-4331-420e-9bf9-6bd4a8ffa8c7"
   },
   "outputs": [],
   "source": [
    "pip install redshift-connector"
   ]
  },
  {
   "cell_type": "code",
   "execution_count": null,
   "id": "0c94f4a6-7cd5-4876-9b3d-7278868c871c",
   "metadata": {
    "id": "0c94f4a6-7cd5-4876-9b3d-7278868c871c"
   },
   "outputs": [],
   "source": [
    "import redshift_connector\n",
    "import logging\n",
    "\n",
    "# logging.basicConfig(level=logging.DEBUG)\n",
    "\n",
    "try:\n",
    "    conn = redshift_connector.connect(\n",
    "        host='redshift-cluster-2.czfgt1tbsuck.us-east-2.redshift.amazonaws.com',\n",
    "        database='dev',\n",
    "        user='---',\n",
    "        password='-----',\n",
    "        ssl=True,\n",
    "        timeout=60  # Increase the timeout if the connection takes longer\n",
    "    )\n",
    "    print(conn)\n",
    "except redshift_connector.Error as e:\n",
    "    print(f\"Error: {e}\")\n"
   ]
  },
  {
   "cell_type": "code",
   "execution_count": null,
   "id": "428ea818-24a6-4754-bfe5-4e6dcae45d24",
   "metadata": {
    "id": "428ea818-24a6-4754-bfe5-4e6dcae45d24",
    "outputId": "383dc6d6-c689-4f9d-f29f-bff2eeb9e6f2"
   },
   "outputs": [
    {
     "data": {
      "text/plain": [
       "<redshift_connector.cursor.Cursor at 0x29859daa490>"
      ]
     },
     "execution_count": 25,
     "metadata": {},
     "output_type": "execute_result"
    }
   ],
   "source": [
    "# Enabling autocommit\n",
    "conn.autocommit = True\n",
    "\n",
    "# Creating a cursor object to interact with the database\n",
    "cursor = conn.cursor()\n",
    "\n",
    "# Creating the dimDate table\n",
    "cursor.execute(\"\"\"\n",
    "CREATE TABLE \"dimDate\" (\n",
    "    \"fips\" INTEGER,\n",
    "    \"date\" TIMESTAMP,\n",
    "    \"year\" INTEGER,\n",
    "    \"month\" INTEGER,\n",
    "    \"day_of_week\" INTEGER\n",
    ")\n",
    "\"\"\")\n",
    "\n",
    "\n",
    "cursor.execute(\"\"\"\n",
    "CREATE TABLE \"dimHospital\" (\n",
    "  \"fips\" REAL,\n",
    "  \"state_name\" TEXT,\n",
    "  \"latitude\" REAL,\n",
    "  \"longitude\" REAL,\n",
    "  \"hq_address\" TEXT,\n",
    "  \"hospital_name\" TEXT,\n",
    "  \"hospital_type\" TEXT,\n",
    "  \"hq_city\" TEXT,\n",
    "  \"hq_state\" TEXT\n",
    ")\n",
    "\"\"\")\n",
    "\n"
   ]
  },
  {
   "cell_type": "code",
   "execution_count": null,
   "id": "cc9c807b-92ff-47fc-8052-0ef568114c4e",
   "metadata": {
    "id": "cc9c807b-92ff-47fc-8052-0ef568114c4e",
    "outputId": "f75390b4-2ab3-4011-f9f9-9a00a2e36335"
   },
   "outputs": [
    {
     "data": {
      "text/plain": [
       "<redshift_connector.cursor.Cursor at 0x29859da9e10>"
      ]
     },
     "execution_count": 26,
     "metadata": {},
     "output_type": "execute_result"
    }
   ],
   "source": [
    "# Enabling autocommit\n",
    "conn.autocommit = True\n",
    "\n",
    "# Creating a cursor object to interact with the database\n",
    "cursor = conn.cursor()\n",
    "\n",
    "# Creating the dimDate table\n",
    "cursor.execute(\"\"\"\n",
    "CREATE TABLE \"factCovid\" (\n",
    "  \"fips\" REAL,\n",
    "  \"province_state\" TEXT,\n",
    "  \"country_region\" TEXT,\n",
    "  \"confirmed\" REAL,\n",
    "  \"deaths\" REAL,\n",
    "  \"recovered\" REAL,\n",
    "  \"active\" REAL,\n",
    "  \"date\" INTEGER,\n",
    "  \"positive\" INTEGER,\n",
    "  \"negative\" REAL,\n",
    "  \"hospitalized_currently\" REAL,\n",
    "  \"hospitalized\" REAL,\n",
    "  \"hospitalized_discharged\" REAL\n",
    ")\n",
    "\"\"\")\n",
    "\n",
    "# Creating the dimRegion table\n",
    "cursor.execute(\"\"\"\n",
    "CREATE TABLE \"dimRegion\" (\n",
    "  \"fips\" REAL,\n",
    "  \"province_state\" TEXT,\n",
    "  \"country_region\" TEXT,\n",
    "  \"latitude\" REAL,\n",
    "  \"longitude\" REAL,\n",
    "  \"county\" TEXT,\n",
    "  \"state\" TEXT\n",
    ")\n",
    "\"\"\")\n",
    "\n"
   ]
  },
  {
   "cell_type": "code",
   "execution_count": null,
   "id": "78b32841-2605-4465-8b41-342d8aee9ef3",
   "metadata": {
    "id": "78b32841-2605-4465-8b41-342d8aee9ef3"
   },
   "outputs": [],
   "source": []
  },
  {
   "cell_type": "code",
   "execution_count": null,
   "id": "08deaeab-0ee6-4bea-a603-b6d2fdab5579",
   "metadata": {
    "id": "08deaeab-0ee6-4bea-a603-b6d2fdab5579"
   },
   "outputs": [],
   "source": [
    "cursor.execute(\"\"\"\n",
    "copy factcovid from 's3://aws-session-datawarehousing-output/factCovid.csv'\n",
    "credentials 'aws_iam_role=arn:aws:iam::975050334693:role/service-role/AmazonRedshift-CommandsAccessRole-20240625T125922'\n",
    "delimiter ','\n",
    "region 'us-east-2'\n",
    "IGNOREHEADER 1;\n",
    "\"\"\")\n",
    "\n",
    "cursor.execute(\"\"\"\n",
    "copy dimregion from 's3://aws-session-datawarehousing-output/dimRegion.csv'\n",
    "credentials 'aws_iam_role=arn:aws:iam::975050334693:role/service-role/AmazonRedshift-CommandsAccessRole-20240625T125922'\n",
    "delimiter ','\n",
    "region 'us-east-2'\n",
    "IGNOREHEADER 1;\n",
    "\"\"\")\n",
    "\n",
    "\n",
    "cursor.execute(\"\"\"\n",
    "copy dimhospital from 's3://aws-session-datawarehousing-output/dimHospital.csv'\n",
    "credentials 'aws_iam_role=arn:aws:iam::975050334693:role/service-role/AmazonRedshift-CommandsAccessRole-20240625T125922'\n",
    "delimiter ','\n",
    "region 'us-east-2'\n",
    "IGNOREHEADER 1;\n",
    "\"\"\")\n",
    "\n",
    "\n",
    "cursor.execute(\"\"\"\n",
    "copy dimdate from 's3://aws-session-datawarehousing-output/dimDate.csv'\n",
    "credentials 'aws_iam_role=arn:aws:iam::975050334693:role/service-role/AmazonRedshift-CommandsAccessRole-20240625T125922'\n",
    "delimiter ','\n",
    "region 'us-east-2'\n",
    "IGNOREHEADER 1;\n",
    "\"\"\")"
   ]
  },
  {
   "cell_type": "code",
   "execution_count": null,
   "id": "009112d6-c9a5-4c86-bc81-99fdc89f90e0",
   "metadata": {
    "id": "009112d6-c9a5-4c86-bc81-99fdc89f90e0"
   },
   "outputs": [],
   "source": []
  },
  {
   "cell_type": "code",
   "execution_count": null,
   "id": "1eca6f85-1ad8-45c5-84d0-c703b51afda3",
   "metadata": {
    "id": "1eca6f85-1ad8-45c5-84d0-c703b51afda3"
   },
   "outputs": [],
   "source": []
  }
 ],
 "metadata": {
  "colab": {
   "provenance": []
  },
  "kernelspec": {
   "display_name": "Python 3",
   "language": "python",
   "name": "python3"
  },
  "language_info": {
   "codemirror_mode": {
    "name": "ipython",
    "version": 3
   },
   "file_extension": ".py",
   "mimetype": "text/x-python",
   "name": "python",
   "nbconvert_exporter": "python",
   "pygments_lexer": "ipython3",
   "version": "3.10.11"
  }
 },
 "nbformat": 4,
 "nbformat_minor": 5
}
